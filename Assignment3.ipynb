{
  "nbformat": 4,
  "nbformat_minor": 0,
  "metadata": {
    "colab": {
      "provenance": [],
      "authorship_tag": "ABX9TyMXYyEvNdA2nAiIOWjguNG+",
      "include_colab_link": true
    },
    "kernelspec": {
      "name": "python3",
      "display_name": "Python 3"
    },
    "language_info": {
      "name": "python"
    }
  },
  "cells": [
    {
      "cell_type": "markdown",
      "metadata": {
        "id": "view-in-github",
        "colab_type": "text"
      },
      "source": [
        "<a href=\"https://colab.research.google.com/github/Alihachem70/Currency-Conversion-Project-/blob/main/Assignment3.ipynb\" target=\"_parent\"><img src=\"https://colab.research.google.com/assets/colab-badge.svg\" alt=\"Open In Colab\"/></a>"
      ]
    },
    {
      "cell_type": "code",
      "execution_count": 1,
      "metadata": {
        "colab": {
          "base_uri": "https://localhost:8080/"
        },
        "id": "9sBzboNQH36B",
        "outputId": "f1feb3d7-082c-43d9-8653-f78f31f65299"
      },
      "outputs": [
        {
          "output_type": "stream",
          "name": "stdout",
          "text": [
            "Enter the target element to search: 3\n",
            "Element found at index 2\n"
          ]
        }
      ],
      "source": [
        "def binary_search_recursive(array, low, high, target):\n",
        "    if low <= high:\n",
        "        mid = (low + high) // 2\n",
        "        if array[mid] == target:\n",
        "            return mid\n",
        "        elif array[mid] > target:\n",
        "            return binary_search_recursive(array, low, mid - 1, target)\n",
        "        else:\n",
        "            return binary_search_recursive(array, mid + 1, high, target)\n",
        "    return -1\n",
        "\n",
        "array = [1, 2, 3, 4, 5, 6, 7, 8, 9]\n",
        "\n",
        "target = int(input(\"Enter the target element to search: \"))\n",
        "\n",
        "result = binary_search_recursive(array, 0, len(array) - 1, target)\n",
        "\n",
        "if result != -1:\n",
        "    print(f\"Element found at index {result}\")\n",
        "else:\n",
        "    print(\"Element not found\")\n"
      ]
    },
    {
      "cell_type": "code",
      "source": [
        "def generate_combinations(characters, n, current_combination=\"\"):\n",
        "\n",
        "    if len(current_combination) == n:\n",
        "        print(current_combination)\n",
        "        return\n",
        "\n",
        "\n",
        "    for char in characters:\n",
        "\n",
        "        generate_combinations(characters, n, current_combination + char)\n",
        "\n",
        "\n",
        "user_input = input(\"Enter characters separated by spaces: \")\n",
        "characters = user_input.split()\n",
        "\n",
        "\n",
        "n = int(input(\"Enter the length of combinations (n): \"))\n",
        "\n",
        "\n",
        "generate_combinations(characters, n)\n"
      ],
      "metadata": {
        "colab": {
          "base_uri": "https://localhost:8080/"
        },
        "id": "9lBNYPueH8Qf",
        "outputId": "266b410d-a911-4925-d1ee-db458fa82806"
      },
      "execution_count": 2,
      "outputs": [
        {
          "output_type": "stream",
          "name": "stdout",
          "text": [
            "Enter characters separated by spaces: a n h k \n",
            "Enter the length of combinations (n): 3\n",
            "aaa\n",
            "aan\n",
            "aah\n",
            "aak\n",
            "ana\n",
            "ann\n",
            "anh\n",
            "ank\n",
            "aha\n",
            "ahn\n",
            "ahh\n",
            "ahk\n",
            "aka\n",
            "akn\n",
            "akh\n",
            "akk\n",
            "naa\n",
            "nan\n",
            "nah\n",
            "nak\n",
            "nna\n",
            "nnn\n",
            "nnh\n",
            "nnk\n",
            "nha\n",
            "nhn\n",
            "nhh\n",
            "nhk\n",
            "nka\n",
            "nkn\n",
            "nkh\n",
            "nkk\n",
            "haa\n",
            "han\n",
            "hah\n",
            "hak\n",
            "hna\n",
            "hnn\n",
            "hnh\n",
            "hnk\n",
            "hha\n",
            "hhn\n",
            "hhh\n",
            "hhk\n",
            "hka\n",
            "hkn\n",
            "hkh\n",
            "hkk\n",
            "kaa\n",
            "kan\n",
            "kah\n",
            "kak\n",
            "kna\n",
            "knn\n",
            "knh\n",
            "knk\n",
            "kha\n",
            "khn\n",
            "khh\n",
            "khk\n",
            "kka\n",
            "kkn\n",
            "kkh\n",
            "kkk\n"
          ]
        }
      ]
    },
    {
      "cell_type": "code",
      "source": [
        "def add_to_sorted_list(sorted_list, value):\n",
        "    low, high = 0, len(sorted_list)\n",
        "\n",
        "    while low < high:\n",
        "        mid = (low + high) // 2\n",
        "        if sorted_list[mid] < value:\n",
        "            low = mid + 1\n",
        "        else:\n",
        "            high = mid\n",
        "\n",
        "\n",
        "    sorted_list.insert(low, value)\n",
        "user_input = input(\"Enter a sorted list of integers separated by spaces: \")\n",
        "sorted_list = list(map(int, user_input.split()))\n",
        "\n",
        "val = int(input(\"Enter the value to insert: \"))\n",
        "\n",
        "add_to_sorted_list(sorted_list, val)\n",
        "\n",
        "print(\"Updated list:\", sorted_list)"
      ],
      "metadata": {
        "colab": {
          "base_uri": "https://localhost:8080/"
        },
        "id": "VW3vhhu3IWbQ",
        "outputId": "6b7b93a3-b50d-41d2-ea15-108fc3746533"
      },
      "execution_count": 3,
      "outputs": [
        {
          "output_type": "stream",
          "name": "stdout",
          "text": [
            "Enter a sorted list of integers separated by spaces: 1 2\n",
            "Enter the value to insert: 1\n",
            "Updated list: [1, 1, 2]\n"
          ]
        }
      ]
    },
    {
      "cell_type": "code",
      "source": [
        "\n",
        "items = {\n",
        "    \"123\": (\"Milk\", 1.50),\n",
        "    \"456\": (\"Bread\", 2.00),\n",
        "    \"789\": (\"Eggs\", 3.00),\n",
        "    \"321\": (\"Butter\", 4.00),\n",
        "}\n",
        "\n",
        "def display_items():\n",
        "    print(\"Available items:\")\n",
        "    for barcode, (name, price) in items.items():\n",
        "        print(f\"Barcode: {barcode}, Name: {name}, Price: ${price:.2f}\")\n",
        "\n",
        "def add_to_receipt(receipt):\n",
        "    while True:\n",
        "        barcode = input(\"Enter the item barcode: \")\n",
        "        quantity = int(input(\"Enter the quantity: \"))\n",
        "\n",
        "        if barcode in items:\n",
        "            name, price = items[barcode]\n",
        "            total_cost = price * quantity\n",
        "            receipt.append((name, quantity, price, total_cost))\n",
        "        else:\n",
        "            print(\"Item not found. Please enter a valid barcode.\")\n",
        "\n",
        "        another_item = input(\"Would you like to add another item? (yes/no): \").strip().lower()\n",
        "        if another_item != 'yes':\n",
        "            break\n",
        "\n",
        "def print_receipt(receipt):\n",
        "    print(\"\\nReceipt:\")\n",
        "    total_amount = 0\n",
        "    for name, quantity, price, total_cost in receipt:\n",
        "        print(f\"{name}: {quantity} @ ${price:.2f} = ${total_cost:.2f}\")\n",
        "        total_amount += total_cost\n",
        "\n",
        "    print(f\"\\nTotal Amount: ${total_amount:.2f}\\n\")\n",
        "\n",
        "def main():\n",
        "    while True:\n",
        "        start_receipt = input(\"Would you like to start a new receipt? (yes/no): \").strip().lower()\n",
        "\n",
        "        if start_receipt == 'yes':\n",
        "            display_items()\n",
        "            receipt = []\n",
        "            add_to_receipt(receipt)\n",
        "            print_receipt(receipt)\n",
        "        elif start_receipt == 'no':\n",
        "            print(\"Exiting the system. Thank you!\")\n",
        "            break\n",
        "        else:\n",
        "            print(\"Invalid input. Please enter 'yes' or 'no'.\")\n",
        "\n",
        "if __name__ == \"__main__\":\n",
        "    main()\n"
      ],
      "metadata": {
        "colab": {
          "base_uri": "https://localhost:8080/",
          "height": 651
        },
        "id": "56uvKFmaPoHi",
        "outputId": "8874ca50-b770-4f01-b3a7-a11dbf58b7ca"
      },
      "execution_count": 4,
      "outputs": [
        {
          "output_type": "stream",
          "name": "stdout",
          "text": [
            "Would you like to start a new receipt? (yes/no): yes\n",
            "Available items:\n",
            "Barcode: 123, Name: Milk, Price: $1.50\n",
            "Barcode: 456, Name: Bread, Price: $2.00\n",
            "Barcode: 789, Name: Eggs, Price: $3.00\n",
            "Barcode: 321, Name: Butter, Price: $4.00\n",
            "Enter the item barcode: 123\n",
            "Enter the quantity: 3\n",
            "Would you like to add another item? (yes/no): yes\n",
            "Enter the item barcode: 456\n",
            "Enter the quantity: 10\n",
            "Would you like to add another item? (yes/no): no\n",
            "\n",
            "Receipt:\n",
            "Milk: 3 @ $1.50 = $4.50\n",
            "Bread: 10 @ $2.00 = $20.00\n",
            "\n",
            "Total Amount: $24.50\n",
            "\n"
          ]
        },
        {
          "output_type": "error",
          "ename": "KeyboardInterrupt",
          "evalue": "Interrupted by user",
          "traceback": [
            "\u001b[0;31m---------------------------------------------------------------------------\u001b[0m",
            "\u001b[0;31mKeyboardInterrupt\u001b[0m                         Traceback (most recent call last)",
            "\u001b[0;32m<ipython-input-4-0dee6d7124a2>\u001b[0m in \u001b[0;36m<cell line: 53>\u001b[0;34m()\u001b[0m\n\u001b[1;32m     52\u001b[0m \u001b[0;34m\u001b[0m\u001b[0m\n\u001b[1;32m     53\u001b[0m \u001b[0;32mif\u001b[0m \u001b[0m__name__\u001b[0m \u001b[0;34m==\u001b[0m \u001b[0;34m\"__main__\"\u001b[0m\u001b[0;34m:\u001b[0m\u001b[0;34m\u001b[0m\u001b[0;34m\u001b[0m\u001b[0m\n\u001b[0;32m---> 54\u001b[0;31m     \u001b[0mmain\u001b[0m\u001b[0;34m(\u001b[0m\u001b[0;34m)\u001b[0m\u001b[0;34m\u001b[0m\u001b[0;34m\u001b[0m\u001b[0m\n\u001b[0m",
            "\u001b[0;32m<ipython-input-4-0dee6d7124a2>\u001b[0m in \u001b[0;36mmain\u001b[0;34m()\u001b[0m\n\u001b[1;32m     38\u001b[0m \u001b[0;32mdef\u001b[0m \u001b[0mmain\u001b[0m\u001b[0;34m(\u001b[0m\u001b[0;34m)\u001b[0m\u001b[0;34m:\u001b[0m\u001b[0;34m\u001b[0m\u001b[0;34m\u001b[0m\u001b[0m\n\u001b[1;32m     39\u001b[0m     \u001b[0;32mwhile\u001b[0m \u001b[0;32mTrue\u001b[0m\u001b[0;34m:\u001b[0m\u001b[0;34m\u001b[0m\u001b[0;34m\u001b[0m\u001b[0m\n\u001b[0;32m---> 40\u001b[0;31m         \u001b[0mstart_receipt\u001b[0m \u001b[0;34m=\u001b[0m \u001b[0minput\u001b[0m\u001b[0;34m(\u001b[0m\u001b[0;34m\"Would you like to start a new receipt? (yes/no): \"\u001b[0m\u001b[0;34m)\u001b[0m\u001b[0;34m.\u001b[0m\u001b[0mstrip\u001b[0m\u001b[0;34m(\u001b[0m\u001b[0;34m)\u001b[0m\u001b[0;34m.\u001b[0m\u001b[0mlower\u001b[0m\u001b[0;34m(\u001b[0m\u001b[0;34m)\u001b[0m\u001b[0;34m\u001b[0m\u001b[0;34m\u001b[0m\u001b[0m\n\u001b[0m\u001b[1;32m     41\u001b[0m \u001b[0;34m\u001b[0m\u001b[0m\n\u001b[1;32m     42\u001b[0m         \u001b[0;32mif\u001b[0m \u001b[0mstart_receipt\u001b[0m \u001b[0;34m==\u001b[0m \u001b[0;34m'yes'\u001b[0m\u001b[0;34m:\u001b[0m\u001b[0;34m\u001b[0m\u001b[0;34m\u001b[0m\u001b[0m\n",
            "\u001b[0;32m/usr/local/lib/python3.10/dist-packages/ipykernel/kernelbase.py\u001b[0m in \u001b[0;36mraw_input\u001b[0;34m(self, prompt)\u001b[0m\n\u001b[1;32m    849\u001b[0m                 \u001b[0;34m\"raw_input was called, but this frontend does not support input requests.\"\u001b[0m\u001b[0;34m\u001b[0m\u001b[0;34m\u001b[0m\u001b[0m\n\u001b[1;32m    850\u001b[0m             )\n\u001b[0;32m--> 851\u001b[0;31m         return self._input_request(str(prompt),\n\u001b[0m\u001b[1;32m    852\u001b[0m             \u001b[0mself\u001b[0m\u001b[0;34m.\u001b[0m\u001b[0m_parent_ident\u001b[0m\u001b[0;34m,\u001b[0m\u001b[0;34m\u001b[0m\u001b[0;34m\u001b[0m\u001b[0m\n\u001b[1;32m    853\u001b[0m             \u001b[0mself\u001b[0m\u001b[0;34m.\u001b[0m\u001b[0m_parent_header\u001b[0m\u001b[0;34m,\u001b[0m\u001b[0;34m\u001b[0m\u001b[0;34m\u001b[0m\u001b[0m\n",
            "\u001b[0;32m/usr/local/lib/python3.10/dist-packages/ipykernel/kernelbase.py\u001b[0m in \u001b[0;36m_input_request\u001b[0;34m(self, prompt, ident, parent, password)\u001b[0m\n\u001b[1;32m    893\u001b[0m             \u001b[0;32mexcept\u001b[0m \u001b[0mKeyboardInterrupt\u001b[0m\u001b[0;34m:\u001b[0m\u001b[0;34m\u001b[0m\u001b[0;34m\u001b[0m\u001b[0m\n\u001b[1;32m    894\u001b[0m                 \u001b[0;31m# re-raise KeyboardInterrupt, to truncate traceback\u001b[0m\u001b[0;34m\u001b[0m\u001b[0;34m\u001b[0m\u001b[0m\n\u001b[0;32m--> 895\u001b[0;31m                 \u001b[0;32mraise\u001b[0m \u001b[0mKeyboardInterrupt\u001b[0m\u001b[0;34m(\u001b[0m\u001b[0;34m\"Interrupted by user\"\u001b[0m\u001b[0;34m)\u001b[0m \u001b[0;32mfrom\u001b[0m \u001b[0;32mNone\u001b[0m\u001b[0;34m\u001b[0m\u001b[0;34m\u001b[0m\u001b[0m\n\u001b[0m\u001b[1;32m    896\u001b[0m             \u001b[0;32mexcept\u001b[0m \u001b[0mException\u001b[0m \u001b[0;32mas\u001b[0m \u001b[0me\u001b[0m\u001b[0;34m:\u001b[0m\u001b[0;34m\u001b[0m\u001b[0;34m\u001b[0m\u001b[0m\n\u001b[1;32m    897\u001b[0m                 \u001b[0mself\u001b[0m\u001b[0;34m.\u001b[0m\u001b[0mlog\u001b[0m\u001b[0;34m.\u001b[0m\u001b[0mwarning\u001b[0m\u001b[0;34m(\u001b[0m\u001b[0;34m\"Invalid Message:\"\u001b[0m\u001b[0;34m,\u001b[0m \u001b[0mexc_info\u001b[0m\u001b[0;34m=\u001b[0m\u001b[0;32mTrue\u001b[0m\u001b[0;34m)\u001b[0m\u001b[0;34m\u001b[0m\u001b[0;34m\u001b[0m\u001b[0m\n",
            "\u001b[0;31mKeyboardInterrupt\u001b[0m: Interrupted by user"
          ]
        }
      ]
    }
  ]
}